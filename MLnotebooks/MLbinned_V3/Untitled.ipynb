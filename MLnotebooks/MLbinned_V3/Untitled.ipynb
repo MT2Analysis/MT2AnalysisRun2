{
 "cells": [
  {
   "cell_type": "code",
   "execution_count": 1,
   "metadata": {},
   "outputs": [],
   "source": [
    "import tensorflow as tf\n",
    "import numpy as np\n",
    "import pandas as pd\n",
    "from tensorflow.python.keras.layers import Dense\n",
    "from tensorflow.python.keras.models import Sequential\n",
    "from tensorflow.python.keras.losses import binary_crossentropy\n",
    "from tensorflow.python.keras import optimizers\n",
    "from tensorflow.python.keras import initializers\n",
    "import matplotlib.pyplot as plt\n",
    "from tensorflow.python.keras.callbacks import ModelCheckpoint\n",
    "import os\n",
    "from tensorflow.python import keras\n",
    "import tempfile\n",
    "import matplotlib as mpl\n",
    "from sklearn.model_selection import train_test_split\n",
    "import seaborn as sns\n",
    "import sys\n",
    "import math\n",
    "import random as rd\n",
    "from sklearn.model_selection import KFold\n",
    "import statistics\n",
    "from math import sqrt\n",
    "import binning\n",
    "import loaddata\n",
    "import methods\n",
    "import initialize"
   ]
  },
  {
   "cell_type": "code",
   "execution_count": 2,
   "metadata": {},
   "outputs": [],
   "source": [
    "METRICS = [\n",
    "      keras.metrics.TruePositives(name='tp'),\n",
    "      keras.metrics.FalsePositives(name='fp'),\n",
    "      keras.metrics.TrueNegatives(name='tn'),\n",
    "      keras.metrics.FalseNegatives(name='fn'),\n",
    "      keras.metrics.BinaryAccuracy(name='accuracy'),\n",
    "      keras.metrics.Precision(name='precision'),\n",
    "      keras.metrics.Recall(name='recall'),\n",
    "      keras.metrics.AUC(name='auc'),\n",
    "]"
   ]
  },
  {
   "cell_type": "code",
   "execution_count": 3,
   "metadata": {},
   "outputs": [
    {
     "name": "stdout",
     "output_type": "stream",
     "text": [
      "Background set prepared\n",
      "Now binning\n",
      "signal set prepared\n",
      "Now binning\n",
      "control set MC prepared\n",
      "Now binning\n",
      "control set MC prepared\n",
      "Now binning\n",
      "data  llep 326925\n",
      "control set data prepared\n",
      "Now binning\n",
      "data  zll 172361\n",
      "control set data prepared\n",
      "Now binning\n",
      "dataset prepared\n"
     ]
    }
   ],
   "source": [
    "massskim=True\n",
    "bkg=loaddata.loadbkg()\n",
    "sig=loaddata.loadsig(massskim=massskim)\n",
    "llepMC=loaddata.loadcontrol_MC(controltype=\"llep\")\n",
    "zllMC=loaddata.loadcontrol_MC(controltype=\"zll\")\n",
    "llepdata=loaddata.loadcontrol_data(controltype=\"llep\")\n",
    "zlldata=loaddata.loadcontrol_data(controltype=\"zll\")\n",
    "print(\"dataset prepared\")"
   ]
  },
  {
   "cell_type": "code",
   "execution_count": 4,
   "metadata": {},
   "outputs": [
    {
     "name": "stdout",
     "output_type": "stream",
     "text": [
      "bin  0 zllMC 412653 zlldata 33253\n",
      "bin  1 zllMC 48848 zlldata 4267\n",
      "bin  2 zllMC 7221 zlldata 561\n",
      "bin  3 zllMC 59528 zlldata 4443\n",
      "bin  4 zllMC 10867 zlldata 919\n",
      "bin  5 zllMC 2445 zlldata 221\n",
      "bin  6 zllMC 455 zlldata 36\n",
      "bin  7 zllMC 336257 zlldata 7666\n",
      "bin  8 zllMC 39787 zlldata 997\n",
      "bin  9 zllMC 5145 zlldata 130\n",
      "bin  10 zllMC 103206 zlldata 2765\n",
      "bin  11 zllMC 19210 zlldata 631\n",
      "bin  12 zllMC 4269 zlldata 143\n",
      "bin  13 zllMC 575 zlldata 20\n",
      "bin  14 zllMC 660544 zlldata 5740\n",
      "bin  15 zllMC 74169 zlldata 754\n",
      "bin  16 zllMC 7969 zlldata 99\n",
      "bin  17 zllMC 377972 zlldata 3798\n",
      "bin  18 zllMC 71251 zlldata 941\n",
      "bin  19 zllMC 14708 zlldata 207\n",
      "bin  20 zllMC 1681 zlldata 36\n",
      "bin  21 zllMC 21331 zlldata 204\n",
      "bin  22 zllMC 2440 zlldata 27\n",
      "bin  23 zllMC 186 zlldata 2\n",
      "bin  24 zllMC 21916 zlldata 251\n",
      "bin  25 zllMC 4525 zlldata 77\n",
      "bin  26 zllMC 822 zlldata 13\n",
      "bin  27 zllMC 89 zlldata 0\n",
      "bin  28 zllMC 36429 zlldata 140\n",
      "bin  29 zllMC 3793 zlldata 14\n",
      "bin  30 zllMC 278 zlldata 0\n",
      "bin  31 zllMC 40127 zlldata 159\n",
      "bin  32 zllMC 8011 zlldata 34\n",
      "bin  33 zllMC 1244 zlldata 5\n",
      "bin  34 zllMC 152 zlldata 1\n",
      "bin  35 zllMC 87 zlldata 13\n",
      "bin  36 zllMC 27 zlldata 3\n",
      "bin  37 zllMC 8 zlldata 0\n",
      "bin  38 zllMC 0 zlldata 0\n",
      "bin  39 zllMC 815 zlldata 43\n",
      "bin  40 zllMC 218 zlldata 13\n",
      "bin  41 zllMC 66 zlldata 5\n",
      "bin  42 zllMC 9 zlldata 2\n",
      "bin  43 zllMC 13256 zlldata 190\n",
      "bin  44 zllMC 3865 zlldata 77\n",
      "bin  45 zllMC 1119 zlldata 37\n",
      "bin  46 zllMC 167 zlldata 6\n",
      "bin  47 zllMC 26 zlldata 0\n",
      "bin  48 zllMC 93 zlldata 1\n",
      "bin  49 zllMC 41 zlldata 2\n",
      "bin  50 zllMC 15 zlldata 1\n",
      "bin  51 zllMC 3 zlldata 1\n",
      "bin  52 zllMC 0 zlldata 0\n",
      "bin  53 zllMC 2346 zlldata 30\n",
      "bin  54 zllMC 706 zlldata 8\n",
      "bin  55 zllMC 207 zlldata 3\n",
      "bin  56 zllMC 38 zlldata 1\n",
      "bin  57 zllMC 4 zlldata 1\n",
      "bin  58 zllMC 67 zlldata 0\n",
      "bin  59 zllMC 25 zlldata 0\n",
      "bin  60 zllMC 10 zlldata 1\n",
      "bin  61 zllMC 1 zlldata 0\n",
      "bin  62 zllMC 0 zlldata 0\n",
      "bin  63 zllMC 4992 zlldata 24\n",
      "bin  64 zllMC 1617 zlldata 8\n",
      "bin  65 zllMC 494 zlldata 2\n",
      "bin  66 zllMC 74 zlldata 0\n",
      "bin  67 zllMC 7 zlldata 0\n",
      "bin  68 zllMC 177 zlldata 3\n",
      "bin  69 zllMC 104 zlldata 0\n",
      "bin  70 zllMC 33 zlldata 0\n",
      "bin  71 zllMC 10 zlldata 0\n",
      "bin  72 zllMC 1 zlldata 0\n",
      "bin  73 zllMC 181976 zlldata 28723\n",
      "bin  74 zllMC 187384 zlldata 8419\n",
      "bin  75 zllMC 133101 zlldata 2539\n",
      "bin  76 zllMC 83857 zlldata 658\n",
      "bin  77 zllMC 43285 zlldata 283\n",
      "bin  78 zllMC 3811 zlldata 25\n",
      "bin  79 zllMC 1467 zlldata 9\n",
      "bin  80 zllMC 11878 zlldata 1649\n",
      "bin  81 zllMC 11460 zlldata 479\n",
      "bin  82 zllMC 7528 zlldata 159\n",
      "bin  83 zllMC 4256 zlldata 48\n",
      "bin  84 zllMC 2023 zlldata 21\n"
     ]
    }
   ],
   "source": [
    "for i in range(85):\n",
    "    print(\"bin \",i,\"zllMC\",zllMC[i].shape[0],\"zlldata\",zlldata[i].shape[0])"
   ]
  },
  {
   "cell_type": "code",
   "execution_count": 6,
   "metadata": {},
   "outputs": [
    {
     "name": "stdout",
     "output_type": "stream",
     "text": [
      "172199\n"
     ]
    }
   ],
   "source": [
    "S=0\n",
    "for i in range(85):\n",
    "    S=S+zlldata[i].shape[0]\n",
    "print(S)"
   ]
  },
  {
   "cell_type": "code",
   "execution_count": 7,
   "metadata": {},
   "outputs": [
    {
     "data": {
      "text/plain": [
       "172361"
      ]
     },
     "execution_count": 7,
     "metadata": {},
     "output_type": "execute_result"
    }
   ],
   "source": [
    "45356+49083+77922"
   ]
  },
  {
   "cell_type": "code",
   "execution_count": null,
   "metadata": {},
   "outputs": [],
   "source": [
    "models_forbin=initialize.models_forbin\n",
    "\n",
    "(databkg_ML_bin,databkg_test_bin,MLuse_bkg,MLusetag_bkg)=initialize.spliting(bkg)\n",
    "del bkg\n",
    "(datasig_ML_bin,datasig_test_bin,MLuse_sig,MLusetag_sig)=initialize.spliting(sig)\n",
    "del sig"
   ]
  },
  {
   "cell_type": "code",
   "execution_count": null,
   "metadata": {},
   "outputs": [],
   "source": [
    "binsused=[]\n",
    "j=0\n",
    "i=33\n",
    "m1=models_forbin['mass'][j][0]\n",
    "m2=models_forbin['mass'][j][1]\n",
    "models_forbin['significance'].append([])\n",
    "models_forbin['traintag'].append([])\n",
    "models_forbin['trainfraction'].append([])"
   ]
  },
  {
   "cell_type": "code",
   "execution_count": null,
   "metadata": {},
   "outputs": [],
   "source": [
    "features_train=methods.feature_choice(min(binning.selections[i][1][1],16)-1)\n",
    "features_zllCR=methods.feature_choice_zll(min(binning.selections[i][1][1],16)-1)\n",
    "X0=databkg_ML_bin[i][(features_train+[b'evt_scale1fb',b'GenSusyMScan1',b'GenSusyMScan2',b'absweight',b'bkgtype',b'w2'])[:]]\n",
    "y0=databkg_ML_bin[i][b'sigtag']\n",
    "X1=datasig_ML_bin[i][(features_train+[b'evt_scale1fb',b'GenSusyMScan1',b'GenSusyMScan2',b'absweight',b'bkgtype',b'w2'])[:]]\n",
    "y1=datasig_ML_bin[i][b'sigtag']\n",
    "models_forbin['traintag'][j].append([MLusetag_bkg[i],MLusetag_sig[i]])\n",
    "models_forbin['trainfraction'][j].append([MLuse_bkg[i],MLuse_sig[i]])\n",
    "X0_train, X0_val, y0_train, y0_val = train_test_split(X0, y0, test_size=0.1, random_state=42)\n",
    "X1_train, X1_val, y1_train, y1_val = train_test_split(X1, y1, test_size=0.1, random_state=90)\n",
    "X0_train=X0_train.reset_index(drop=True)\n",
    "y0_train=y0_train.reset_index(drop=True)\n",
    "X0_val=X0_val.reset_index(drop=True)\n",
    "y0_val=y0_val.reset_index(drop=True)\n",
    "X1_train=X1_train.reset_index(drop=True)\n",
    "y1_train=y1_train.reset_index(drop=True)\n",
    "X1_val=X1_val.reset_index(drop=True)\n",
    "y1_val=y1_val.reset_index(drop=True)\n",
    "val0=pd.concat([X0_val,y0_val],axis=1)\n",
    "val1=pd.concat([X1_val,y1_val],axis=1)\n",
    "train0=pd.concat([X0_train,y0_train],axis=1)\n",
    "train1=pd.concat([X1_train,y1_train],axis=1)\n",
    "print(\"train on \",X0_train.shape[0],\" background\", X1_train.shape[0],\" signals, validate on \",X0_val.shape[0],\"background\",X1_val.shape[0],\"signals\")\n",
    "nsample=3*np.max([X0_train.shape[0],X1_train.shape[0]])\n",
    "ids0=np.arange(X0_train.shape[0])\n",
    "ids1=np.arange(X1_train.shape[0])\n",
    "choices0 = np.random.choice(ids0, nsample)\n",
    "choices1 = np.random.choice(ids1, nsample)\n",
    "res_X_train=pd.concat([X0_train.iloc[choices0,:],X1_train.iloc[choices1,:]])\n",
    "res_y_train=pd.concat([y0_train.iloc[choices0],y1_train.iloc[choices1]])\n",
    "res_X_train=res_X_train.reset_index(drop=True)\n",
    "res_y_train=res_y_train.reset_index(drop=True)\n",
    "nsample=3*np.max([X0_val.shape[0],X1_val.shape[0]])\n",
    "ids0=np.arange(X0_val.shape[0])\n",
    "ids1=np.arange(X1_val.shape[0])\n",
    "choices0 = np.random.choice(ids0, nsample)\n",
    "choices1 = np.random.choice(ids1, nsample)\n",
    "res_X_val=pd.concat([X0_val.iloc[choices0,:],X1_val.iloc[choices1,:]])\n",
    "res_y_val=pd.concat([y0_val.iloc[choices0],y1_val.iloc[choices1]])\n",
    "res_X_val=res_X_val.reset_index(drop=True)\n",
    "res_y_val=res_y_val.reset_index(drop=True)\n",
    "print (res_y_train[res_y_train==0].shape[0], res_y_train[res_y_train==1].shape[0], res_y_val[res_y_val==0].shape[0], res_y_val[res_y_val==1].shape[0])"
   ]
  },
  {
   "cell_type": "code",
   "execution_count": null,
   "metadata": {},
   "outputs": [],
   "source": [
    "def make_model(metrics = METRICS, output_bias=None):\n",
    "    if output_bias is not None:\n",
    "        output_bias = tf.keras.initializers.Constant(output_bias)\n",
    "    model = keras.Sequential([\n",
    "                    keras.layers.Dense(\n",
    "                    30, kernel_initializer='normal', activation='sigmoid',\n",
    "                     input_shape=(len(features_train),)),\n",
    "                     keras.layers.Dropout(0.5),\n",
    "                     keras.layers.Dense(\n",
    "                     10, kernel_initializer='normal', activation='sigmoid'),\n",
    "                     keras.layers.Dense(\n",
    "                     10, kernel_initializer='normal', activation='sigmoid'),\n",
    "                      keras.layers.Dense(1, activation='sigmoid',\n",
    "                         bias_initializer=output_bias),\n",
    "                ])\n",
    "    adam=optimizers.Adam(lr=0.001)\n",
    "    model.compile(\n",
    "                     optimizer='Adam',\n",
    "                    loss='binary_crossentropy',\n",
    "                     metrics=metrics)\n",
    "    return model"
   ]
  },
  {
   "cell_type": "code",
   "execution_count": null,
   "metadata": {},
   "outputs": [],
   "source": [
    "filepath=\"weights_T1bbbb_bin_\"+str(i)+\".best.hdf5\"\n",
    "checkpoint = ModelCheckpoint(filepath, monitor='val_accuracy', verbose=1, save_best_only=True, mode='max')\n",
    "callbacks_list = [checkpoint]\n",
    "model = make_model()"
   ]
  },
  {
   "cell_type": "code",
   "execution_count": null,
   "metadata": {},
   "outputs": [],
   "source": [
    "model_history=model.fit(x=res_X_train[features_train[:]],\n",
    "            y=res_y_train,\n",
    "            batch_size=20000,\n",
    "            epochs=200,\n",
    "            verbose=0,\n",
    "            callbacks = callbacks_list,\n",
    "            validation_data=(res_X_val[features_train[:]], res_y_val))"
   ]
  },
  {
   "cell_type": "code",
   "execution_count": null,
   "metadata": {},
   "outputs": [],
   "source": [
    "histroyplot=methods.plot_metrics(model_history,'learning curve in bin '+str(i)+' ht '+str(binning.selections[i][0][0])\n",
    "                       +\"-\"+str(binning.selections[i][0][1])+\" njet \"+str(binning.selections[i][1][0])+\"-\"+str(binning.selections[i][1][1]-1)\n",
    "                       +\" nbjet \"+str(binning.selections[i][2][0])+\"-\"+str(binning.selections[i][2][1]-1))\n",
    "histroyplot.savefig(\"learning_curve_bin\"+str(i)+\".png\")\n",
    "histroyplot.savefig(\"learning_curve_bin\"+str(i)+\".pdf\")"
   ]
  },
  {
   "cell_type": "code",
   "execution_count": null,
   "metadata": {},
   "outputs": [],
   "source": [
    "model.load_weights(filepath)\n",
    "val0[b'MLscore']=model.predict(val0[features_train[:]], batch_size=20000)\n",
    "val1[b'MLscore']=model.predict(val1[features_train[:]], batch_size=20000)\n",
    "train0[b'MLscore']=model.predict(train0[features_train[:]], batch_size=20000)\n",
    "train1[b'MLscore']=model.predict(train1[features_train[:]], batch_size=20000)\n",
    "databkg_test_bin[i][b'MLscore']=model.predict(databkg_test_bin[i][features_train[:]], batch_size=20000)\n",
    "datasig_test_bin[i][b'MLscore']=model.predict(datasig_test_bin[i][features_train[:]], batch_size=20000)\n",
    "llepMC[i][b'MLscore']=model.predict(llepMC[i][features_train[:]], batch_size=20000)\n",
    "zllMC[i][b'MLscore']=model.predict(zllMC[i][features_zllCR[:]], batch_size=20000)\n",
    "llepdata[i][b'MLscore']=model.predict(llepdata[i][features_train[:]], batch_size=20000)\n",
    "zlldata[i][b'MLscore']=model.predict(zlldata[i][features_zllCR[:]], batch_size=20000)"
   ]
  },
  {
   "cell_type": "code",
   "execution_count": null,
   "metadata": {},
   "outputs": [],
   "source": [
    "figcompare = methods.plot_train_val_compare(train0,train1,val0,val1,'train and validation comparison in bin '+str(i)+' ht '+str(binning.selections[i][0][0])\n",
    "                       +\"-\"+str(binning.selections[i][0][1])+\" njet \"+str(binning.selections[i][1][0])+\"-\"+str(binning.selections[i][1][1]-1)\n",
    "                       +\" nbjet \"+str(binning.selections[i][2][0])+\"-\"+str(binning.selections[i][2][1]-1))\n",
    "figcompare.savefig(\"train_val_compare_bin\"+str(i)+\".png\")\n",
    "figcompare.savefig(\"train_val_compare_bin\"+str(i)+\".pdf\")"
   ]
  },
  {
   "cell_type": "code",
   "execution_count": null,
   "metadata": {},
   "outputs": [],
   "source": [
    "figtest = methods.plot_sig_bkg_compare(datasig_test_bin[i],databkg_test_bin[i],m1,m2,'signal and background comparison(test set) in bin '\n",
    "                       +str(i)+' ht '+str(binning.selections[i][0][0])\n",
    "                       +\"-\"+str(binning.selections[i][0][1])+\" njet \"+str(binning.selections[i][1][0])+\"-\"+str(binning.selections[i][1][1]-1)\n",
    "                       +\" nbjet \"+str(binning.selections[i][2][0])+\"-\"+str(binning.selections[i][2][1]-1))\n",
    "figtest.savefig(\"sig_bkg_compare_bin\"+str(i)+\"_mass_\"+str(m1)+\"_\"+str(m2)+\".png\")\n",
    "figtest.savefig(\"sig_bkg_compare_bin\"+str(i)+\"_mass_\"+str(m1)+\"_\"+str(m2)+\".pdf\")"
   ]
  },
  {
   "cell_type": "code",
   "execution_count": null,
   "metadata": {},
   "outputs": [],
   "source": [
    "figllep=methods.plot_CR_llep(llepMC[i],llepdata[i],'data MC comparison of lost lepton CR in bin '+str(i)+' ht '+str(binning.selections[i][0][0])\n",
    "                       +\"-\"+str(binning.selections[i][0][1])+\" njet \"+str(binning.selections[i][1][0])+\"-\"+str(binning.selections[i][1][1]-1)\n",
    "                       +\" nbjet \"+str(binning.selections[i][2][0])+\"-\"+str(binning.selections[i][2][1]-1))\n",
    "figllep.savefig(\"llepCR_bin\"+str(i)+\".png\")\n",
    "figllep.savefig(\"llepCR_bin\"+str(i)+\".pdf\")"
   ]
  },
  {
   "cell_type": "code",
   "execution_count": null,
   "metadata": {},
   "outputs": [],
   "source": [
    "figzll=methods.plot_CR_zll(zllMC[i],zlldata[i],'data MC comparison of zll CR in bin '+str(i)+' zll_ht '+str(binning.selections[i][0][0])\n",
    "                       +\"-\"+str(binning.selections[i][0][1])+\" njet \"+str(binning.selections[i][1][0])+\"-\"+str(binning.selections[i][1][1]-1)\n",
    "                       +\" nbjet \"+str(binning.selections[i][2][0])+\"-\"+str(binning.selections[i][2][1]-1))\n",
    "figzll.savefig(\"zllCR_bin\"+str(i)+\".png\")\n",
    "figzll.savefig(\"zllCR_bin\"+str(i)+\".pdf\")"
   ]
  },
  {
   "cell_type": "code",
   "execution_count": null,
   "metadata": {},
   "outputs": [],
   "source": [
    "midsig=methods.computesignificance(databkg_test_bin[i],datasig_test_bin[i],zllMC[i],llepMC[i],\n",
    "                                           zlldata[i],llepdata[i],m1,m2,1-MLuse_bkg[i],1-MLuse_sig[i],0.005)\n",
    "models_forbin['significance'][j].append(midsig)"
   ]
  },
  {
   "cell_type": "code",
   "execution_count": null,
   "metadata": {},
   "outputs": [],
   "source": [
    "figmidsig=methods.plot_significance(midsig,'significance change of mass '+str(m1)+\" \"+str(m2) +\" with cut--bin\"\n",
    "                       +str(i)+' ht '+str(binning.selections[i][0][0])\n",
    "                       +\"-\"+str(binning.selections[i][0][1])+\" njet \"+str(binning.selections[i][1][0])+\"-\"+str(binning.selections[i][1][1]-1)\n",
    "                       +\" nbjet \"+str(binning.selections[i][2][0])+\"-\"+str(binning.selections[i][2][1]-1))\n",
    "\n",
    "figmidsig.savefig(\"significance_bin_\"+str(i)+\"_mass_\"+str(m1)+\"_\"+str(m2)+\".png\")\n",
    "figmidsig.savefig(\"significance_bin_\"+str(i)+\"_mass_\"+str(m1)+\"_\"+str(m2)+\".pdf\")"
   ]
  },
  {
   "cell_type": "code",
   "execution_count": null,
   "metadata": {},
   "outputs": [],
   "source": [
    "def plot_score_mt2_corr(sig,bkg,title):\n",
    "    fig = plt.figure(figsize=(10,10))\n",
    "    ax = fig.add_subplot(111)\n",
    "    dataset=(sig,bkg)\n",
    "    colors=('blue','red')\n",
    "    groups=('inclusive signal','background')\n",
    "    for data,color,group in zip(dataset,colors,groups):\n",
    "        if data.shape[0]>100000:\n",
    "            ax.scatter(data[b'mt2'], data[b'MLscore'], alpha=0.8, c=color, edgecolors='none', s=0.5, label=group)\n",
    "        elif data.shape[0]>10000:\n",
    "            ax.scatter(data[b'mt2'], data[b'MLscore'], alpha=0.8, c=color, edgecolors='none', s=1, label=group)\n",
    "        elif data.shape[0]>1000:\n",
    "            ax.scatter(data[b'mt2'], data[b'MLscore'], alpha=0.8, c=color, edgecolors='none', s=3, label=group)\n",
    "        else:\n",
    "            ax.scatter(data[b'mt2'], data[b'MLscore'], alpha=0.8, c=color, edgecolors='none', s=10, label=group)\n",
    "    ax.legend(loc='best',prop={'size': 16})\n",
    "    ax.set_xlabel('MT2',fontsize=20)\n",
    "    ax.set_ylabel(\"MLscore\",fontsize=20)\n",
    "    ax.tick_params(axis='both', which='major', labelsize=16)\n",
    "    ax.tick_params(axis='both', which='minor', labelsize=16)\n",
    "    ax.set_title(title,size=22)\n",
    "    return fig"
   ]
  },
  {
   "cell_type": "code",
   "execution_count": null,
   "metadata": {},
   "outputs": [],
   "source": [
    "fig_mt2scorecoor=plot_score_mt2_corr(datasig_test_bin[i],databkg_test_bin[i],'MT2 score correlation check in bin '+str(i)+' ht '+str(binning.selections[i][0][0])\n",
    "                       +\"-\"+str(binning.selections[i][0][1])+\" njet \"+str(binning.selections[i][1][0])+\"-\"+str(binning.selections[i][1][1]-1)\n",
    "                       +\" nbjet \"+str(binning.selections[i][2][0])+\"-\"+str(binning.selections[i][2][1]-1))"
   ]
  },
  {
   "cell_type": "code",
   "execution_count": null,
   "metadata": {},
   "outputs": [],
   "source": [
    "np.corrcoef(datasig_test_bin[i][b'mt2'],datasig_test_bin[i][b'MLscore'])[0][1]"
   ]
  },
  {
   "cell_type": "code",
   "execution_count": null,
   "metadata": {},
   "outputs": [],
   "source": [
    "np.corrcoef(databkg_test_bin[i][b'mt2'],databkg_test_bin[i][b'MLscore'])[0][1]"
   ]
  },
  {
   "cell_type": "code",
   "execution_count": null,
   "metadata": {},
   "outputs": [],
   "source": [
    "zllMC[i][(zllMC[i][b'lep_pdgId0']==zllMC[i][b'lep_pdgId1'])]"
   ]
  },
  {
   "cell_type": "code",
   "execution_count": null,
   "metadata": {},
   "outputs": [],
   "source": []
  }
 ],
 "metadata": {
  "kernelspec": {
   "display_name": "Python 3",
   "language": "python",
   "name": "python3"
  },
  "language_info": {
   "codemirror_mode": {
    "name": "ipython",
    "version": 3
   },
   "file_extension": ".py",
   "mimetype": "text/x-python",
   "name": "python",
   "nbconvert_exporter": "python",
   "pygments_lexer": "ipython3",
   "version": "3.6.9"
  }
 },
 "nbformat": 4,
 "nbformat_minor": 2
}
