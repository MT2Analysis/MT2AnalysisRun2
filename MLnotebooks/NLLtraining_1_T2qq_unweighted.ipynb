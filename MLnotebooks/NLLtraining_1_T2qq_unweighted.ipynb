{
 "cells": [
  {
   "cell_type": "code",
   "execution_count": 1,
   "metadata": {},
   "outputs": [
    {
     "name": "stderr",
     "output_type": "stream",
     "text": [
      "Using TensorFlow backend.\n"
     ]
    }
   ],
   "source": [
    "import tensorflow as tf\n",
    "import numpy as np\n",
    "import pandas as pd\n",
    "from keras.layers import Dense\n",
    "from keras.models import Sequential\n",
    "from keras.losses import binary_crossentropy\n",
    "import seaborn\n",
    "import matplotlib.pyplot as plt"
   ]
  },
  {
   "cell_type": "code",
   "execution_count": 2,
   "metadata": {},
   "outputs": [],
   "source": [
    "bkgfiles_2016=[#'/scratch/wjin/featurereduced3/bkg/preselection_2016_dyjetsll_slim.npy',\n",
    "#'/scratch/wjin/featurereduced3/bkg/preselection_2016_gjets_slim.npy',\n",
    "'/work/wjin/featurereduced4/bkg/preselection_2016_qcd_skim.npy',\n",
    "'/work/wjin/featurereduced4/bkg/preselection_2016_singletop_skim.npy',\n",
    "'/work/wjin/featurereduced4/bkg/preselection_2016_tt_skim.npy',\n",
    "#'/scratch/wjin/featurereduced3/bkg/preselection_2016_tt_negligible_slim.npy',\n",
    "'/work/wjin/featurereduced4/bkg/preselection_2016_wjets_skim.npy',\n",
    "#'/scratch/wjin/featurereduced3/bkg/preselection_2016_ww_wz_slim.npy',\n",
    "'/work/wjin/featurereduced4/bkg/preselection_2016_zinv_skim.npy']\n",
    "\n",
    "bkgfiles_2017=[#'/scratch/wjin/featurereduced3/bkg/preselection_2017_dyjetsll_slim.npy',\n",
    "#'/scratch/wjin/featurereduced3/bkg/preselection_2017_gjets_slim.npy',\n",
    "'/work/wjin/featurereduced4/bkg/preselection_2017_qcd_skim.npy',\n",
    "'/work/wjin/featurereduced4/bkg/preselection_2017_singletop_skim.npy',\n",
    "'/work/wjin/featurereduced4/bkg/preselection_2017_tt_skim.npy',\n",
    "#'/scratch/wjin/featurereduced3/bkg/preselection_2017_tt_negligible_slim.npy',\n",
    "'/work/wjin/featurereduced4/bkg/preselection_2017_wjets_skim.npy',\n",
    "#'/scratch/wjin/featurereduced3/bkg/preselection_2017_ww_wz_slim.npy',\n",
    "'/work/wjin/featurereduced4/bkg/preselection_2017_zinv_skim.npy']\n",
    "\n",
    "bkgfiles_2018=[#'/scratch/wjin/featurereduced3/bkg/preselection_2018_dyjetsll_slim.npy',\n",
    "#'/scratch/wjin/featurereduced3/bkg/preselection_2018_gjets_slim.npy',\n",
    "'/work/wjin/featurereduced4/bkg/preselection_2018_qcd_skim.npy',\n",
    "'/work/wjin/featurereduced4/bkg/preselection_2018_singletop_skim.npy',\n",
    "'/work/wjin/featurereduced4/bkg/preselection_2018_tt_skim.npy',\n",
    "#'/scratch/wjin/featurereduced3/bkg/preselection_2018_tt_negligible_slim.npy',\n",
    "'/work/wjin/featurereduced4/bkg/preselection_2018_wjets_skim.npy',\n",
    "#'/scratch/wjin/featurereduced3/bkg/preselection_2018_ww_wz_slim.npy',\n",
    "'/work/wjin/featurereduced4/bkg/preselection_2018_zinv_skim.npy']\n",
    "\n",
    "sigfiles_T2qq_2016=['/work/wjin/featurereduced4/sig/preselection_2016_T2qq_1_skim.npy',\n",
    "                     '/work/wjin/featurereduced4/sig/preselection_2016_T2qq_mSq1850to2600_skim.npy',\n",
    "                     '/work/wjin/featurereduced4/sig/preselection_2016_T2qq_skim.npy']\n",
    "\n",
    "sigfiles_T2qq_2017=['/work/wjin/featurereduced4/sig/preselection_2017_T2qq_1_skim.npy',\n",
    "                     '/work/wjin/featurereduced4/sig/preselection_2017_T2qq_2_skim.npy',\n",
    "                     '/work/wjin/featurereduced4/sig/preselection_2017_T2qq_ext1_1_skim.npy',\n",
    "                     '/work/wjin/featurereduced4/sig/preselection_2017_T2qq_ext1_2_skim.npy',\n",
    "                     '/work/wjin/featurereduced4/sig/preselection_2017_T2qq_ext1_3_skim.npy',\n",
    "                     '/work/wjin/featurereduced4/sig/preselection_2017_T2qq_ext1_skim.npy',\n",
    "                     '/work/wjin/featurereduced4/sig/preselection_2017_T2qq_mSq_1850to2600_ext1_skim.npy',\n",
    "                     '/work/wjin/featurereduced4/sig/preselection_2017_T2qq_mSq_1850to2600_skim.npy',\n",
    "                     '/work/wjin/featurereduced4/sig/preselection_2017_T2qq_skim.npy',]"
   ]
  },
  {
   "cell_type": "code",
   "execution_count": 3,
   "metadata": {},
   "outputs": [],
   "source": [
    "databkg_2016=[]\n",
    "for i in range(5):\n",
    "    databkg_2016.append(pd.DataFrame(np.load(bkgfiles_2016[i]).item()))\n",
    "    databkg_2016[i][b'bkgtype']=i\n",
    "databkg_2016=pd.concat(databkg_2016,axis=0)"
   ]
  },
  {
   "cell_type": "code",
   "execution_count": 4,
   "metadata": {},
   "outputs": [],
   "source": [
    "#databkg_2016=pd.concat([pd.DataFrame(np.load(i).item()) for i in bkgfiles_2016],axis=0)\n",
    "#datasig_T1bbbb_2016=pd.concat([pd.DataFrame(np.load(i).item()) for i in sigfiles_T1bbbb_2016],axis=0)"
   ]
  },
  {
   "cell_type": "code",
   "execution_count": 4,
   "metadata": {},
   "outputs": [],
   "source": [
    "datasig_T2qq_2016=pd.concat([pd.DataFrame(np.load(i).item()) for i in sigfiles_T2qq_2016],axis=0)\n",
    "datasig_T2qq_2016[b'bkgtype']=-1"
   ]
  },
  {
   "cell_type": "code",
   "execution_count": 5,
   "metadata": {},
   "outputs": [],
   "source": [
    "databkg_2016 = databkg_2016.replace(np.nan, 0)\n",
    "datasig_T2qq_2016= datasig_T2qq_2016.replace(np.nan,0)"
   ]
  },
  {
   "cell_type": "code",
   "execution_count": 6,
   "metadata": {},
   "outputs": [],
   "source": [
    "databkg_2016[b'evt_scale1fb'] = databkg_2016[b'evt_scale1fb'].abs()"
   ]
  },
  {
   "cell_type": "code",
   "execution_count": 8,
   "metadata": {},
   "outputs": [
    {
     "data": {
      "text/plain": [
       "(10666142, 93)"
      ]
     },
     "execution_count": 8,
     "metadata": {},
     "output_type": "execute_result"
    }
   ],
   "source": [
    "datasig_T2qq_2016.shape"
   ]
  },
  {
   "cell_type": "code",
   "execution_count": 7,
   "metadata": {},
   "outputs": [],
   "source": [
    "#np.random.seed(123)\n",
    "#databkg_2016[b'MLtag']=np.random.randint(0,10,databkg_2016.shape[0])\n",
    "#datasig_T2qq_2016[b'MLtag']=np.random.randint(0,10,datasig_T2qq_2016.shape[0])"
   ]
  },
  {
   "cell_type": "code",
   "execution_count": 7,
   "metadata": {},
   "outputs": [],
   "source": [
    "databkg_2016_ML=databkg_2016[databkg_2016[b'MLtag']==1]\n",
    "datasig_T2qq_2016_ML=datasig_T2qq_2016[datasig_T2qq_2016[b'MLtag']==1]"
   ]
  },
  {
   "cell_type": "code",
   "execution_count": null,
   "metadata": {},
   "outputs": [],
   "source": [
    "#databkg_2016_try=databkg_2016.sample(frac=0.5,replace=True,random_state=13,axis=0)"
   ]
  },
  {
   "cell_type": "code",
   "execution_count": null,
   "metadata": {},
   "outputs": [],
   "source": [
    "#datasig_T1bbbb_2016_try=datasig_T1bbbb_2016.sample(frac=0.5,replace=True,random_state=13,axis=0)"
   ]
  },
  {
   "cell_type": "code",
   "execution_count": 8,
   "metadata": {},
   "outputs": [],
   "source": [
    "pd.options.mode.chained_assignment = None\n",
    "databkg_2016_ML[b'sigtag']=0\n",
    "datasig_T2qq_2016_ML[b'sigtag']=1"
   ]
  },
  {
   "cell_type": "code",
   "execution_count": 9,
   "metadata": {},
   "outputs": [],
   "source": [
    "data_input=pd.concat([databkg_2016_ML,datasig_T2qq_2016_ML],axis=0)\n",
    "data_input=data_input.reset_index(drop=True)\n",
    "del databkg_2016_ML\n",
    "del datasig_T2qq_2016_ML"
   ]
  },
  {
   "cell_type": "code",
   "execution_count": 10,
   "metadata": {},
   "outputs": [],
   "source": [
    "features_exclude=[b'nJet30',b'nJet40',b'nBJet20',b'nBJet30',b'nBJet40',b'ht',b'mt2',b'mht_pt',b'met_pt',b'mht_phi',b'met_phi',b'njet']\n",
    "#features_train=[b'deltaPhiMin',b'diffMetMht',\n",
    " #         b'jet1_eta',b'jet1_phi',b'jet1_btagDeepCSV',b'jet2_eta',b'jet2_phi',b'jet2_btagDeepCSV',b'jet3_eta',b'jet3_phi',b'jet3_btagDeepCSV',\n",
    " #         b'jet4_eta',b'jet4_phi',b'jet4_btagDeepCSV',b'jet5_eta',b'jet5_phi',b'jet5_btagDeepCSV',b'jet6_eta',b'jet6_phi',b'jet6_btagDeepCSV',\n",
    "  #        b'jet7_eta',b'jet7_phi',b'jet7_btagDeepCSV',b'jet8_eta',b'jet8_phi',b'jet8_btagDeepCSV',b'jet9_eta',b'jet9_phi',b'jet9_btagDeepCSV',\n",
    "  #        b'jet10_eta',b'jet10_phi',b'jet10_btagDeepCSV',b'jet11_eta',b'jet11_phi',b'jet11_btagDeepCSV',b'jet12_eta',b'jet12_phi',b'jet12_btagDeepCSV',\n",
    "  #        b'jet13_eta',b'jet13_phi',b'jet13_btagDeepCSV',b'jet14_eta',b'jet14_phi',b'jet14_btagDeepCSV',b'jet15_eta',b'jet15_phi',b'jet15_btagDeepCSV',\n",
    "  #        b'jet1_pt',b'jet2_pt',b'jet3_pt',b'jet4_pt',b'jet5_pt',\n",
    "  #        b'jet6_pt',b'jet7_pt',b'jet8_pt',b'jet9_pt',b'jet10_pt',\n",
    "  #        b'jet11_pt',b'jet12_pt',b'jet13_pt',b'jet14_pt',b'jet15_pt']\n",
    "\n",
    "features_train=[b'deltaPhiMin',b'diffMetMht',\n",
    "           b'jet1_eta',b'jet1_phi',b'jet2_eta',b'jet2_phi',b'jet3_eta',b'jet3_phi',\n",
    "          b'jet4_eta',b'jet4_phi',b'jet5_eta',b'jet5_phi',b'jet6_eta',b'jet6_phi',\n",
    "          b'jet7_eta',b'jet7_phi',b'jet8_eta',b'jet8_phi',b'jet9_eta',b'jet9_phi',\n",
    "          b'jet10_eta',b'jet10_phi',b'jet11_eta',b'jet11_phi',b'jet12_eta',b'jet12_phi',\n",
    "          b'jet13_eta',b'jet13_phi',b'jet14_eta',b'jet14_phi',b'jet15_eta',b'jet15_phi',\n",
    "           b'jet1_pt',b'jet2_pt',b'jet3_pt',b'jet4_pt',b'jet5_pt',\n",
    "              b'jet6_pt',b'jet7_pt',b'jet8_pt',b'jet9_pt',b'jet10_pt',\n",
    "              b'jet11_pt',b'jet12_pt',b'jet13_pt',b'jet14_pt',b'jet15_pt']"
   ]
  },
  {
   "cell_type": "code",
   "execution_count": 11,
   "metadata": {},
   "outputs": [],
   "source": [
    "X=data_input[(features_train+[b'evt_scale1fb'])[:]]\n",
    "y=data_input[b'sigtag']\n",
    "#X=X.fillna(0,inplace=True)"
   ]
  },
  {
   "cell_type": "code",
   "execution_count": 12,
   "metadata": {},
   "outputs": [],
   "source": [
    "from sklearn.model_selection import train_test_split\n",
    "X_train, X_val, y_train, y_val = train_test_split(X, y, test_size=0.05, random_state=42)"
   ]
  },
  {
   "cell_type": "code",
   "execution_count": 13,
   "metadata": {},
   "outputs": [],
   "source": [
    "X_train=X_train.reset_index(drop=True)\n",
    "y_train=y_train.reset_index(drop=True)"
   ]
  },
  {
   "cell_type": "code",
   "execution_count": 14,
   "metadata": {},
   "outputs": [],
   "source": [
    "X_val=X_val.reset_index(drop=True)\n",
    "y_val=y_val.reset_index(drop=True)"
   ]
  },
  {
   "cell_type": "code",
   "execution_count": null,
   "metadata": {},
   "outputs": [],
   "source": [
    "X_test"
   ]
  },
  {
   "cell_type": "code",
   "execution_count": 15,
   "metadata": {},
   "outputs": [],
   "source": [
    "from keras import optimizers"
   ]
  },
  {
   "cell_type": "code",
   "execution_count": 16,
   "metadata": {},
   "outputs": [],
   "source": [
    "from keras.callbacks import ModelCheckpoint"
   ]
  },
  {
   "cell_type": "code",
   "execution_count": 17,
   "metadata": {},
   "outputs": [],
   "source": [
    "model = Sequential()\n",
    "model.add(Dense(1024, input_shape=(X[features_train].shape[1],), kernel_initializer='normal', activation='relu'))\n",
    "model.add(Dense(500, kernel_initializer='normal', activation='sigmoid'))\n",
    "model.add(Dense(128, kernel_initializer='normal', activation='sigmoid'))\n",
    "model.add(Dense(128, kernel_initializer='normal', activation='sigmoid'))\n",
    "model.add(Dense(64, kernel_initializer='normal', activation='sigmoid'))\n",
    "model.add(Dense(64, kernel_initializer='normal', activation='sigmoid'))\n",
    "model.add(Dense(1, kernel_initializer='normal', activation='sigmoid'))\n",
    "model.compile(optimizer=\"adam\", loss='binary_crossentropy',metrics=['accuracy'])\n",
    "#filepath=\"weights_T2qq_unweighted_V02.best.hdf5\"\n",
    "filepath=\"weights_T2qq2016_unweighted_btagDeepCSV_excluded_V02.best.hdf5\"\n",
    "checkpoint = ModelCheckpoint(filepath, monitor='val_acc', verbose=1, save_best_only=True, mode='max')\n",
    "callbacks_list = [checkpoint]"
   ]
  },
  {
   "cell_type": "code",
   "execution_count": 18,
   "metadata": {},
   "outputs": [
    {
     "name": "stdout",
     "output_type": "stream",
     "text": [
      "Train on 620279 samples, validate on 32647 samples\n",
      "Epoch 1/100\n",
      "620279/620279 [==============================] - 7s 11us/step - loss: 0.5200 - acc: 0.7768 - val_loss: 0.4680 - val_acc: 0.8223\n",
      "\n",
      "Epoch 00001: val_acc improved from -inf to 0.82225, saving model to weights_T2qq2016_unweighted_btagDeepCSV_excluded_V02.best.hdf5\n",
      "Epoch 2/100\n",
      "620279/620279 [==============================] - 6s 9us/step - loss: 0.4748 - acc: 0.8178 - val_loss: 0.4680 - val_acc: 0.8223\n",
      "\n",
      "Epoch 00002: val_acc did not improve from 0.82225\n",
      "Epoch 3/100\n",
      "620279/620279 [==============================] - 6s 9us/step - loss: 0.4747 - acc: 0.8178 - val_loss: 0.4680 - val_acc: 0.8223\n",
      "\n",
      "Epoch 00003: val_acc did not improve from 0.82225\n",
      "Epoch 4/100\n",
      "620279/620279 [==============================] - 6s 9us/step - loss: 0.4747 - acc: 0.8178 - val_loss: 0.4680 - val_acc: 0.8223\n",
      "\n",
      "Epoch 00004: val_acc did not improve from 0.82225\n",
      "Epoch 5/100\n",
      "620279/620279 [==============================] - 6s 9us/step - loss: 0.4745 - acc: 0.8178 - val_loss: 0.4671 - val_acc: 0.8223\n",
      "\n",
      "Epoch 00005: val_acc did not improve from 0.82225\n",
      "Epoch 6/100\n",
      "620279/620279 [==============================] - 6s 9us/step - loss: 0.4687 - acc: 0.8178 - val_loss: 0.4525 - val_acc: 0.8223\n",
      "\n",
      "Epoch 00006: val_acc did not improve from 0.82225\n",
      "Epoch 7/100\n",
      "620279/620279 [==============================] - 6s 9us/step - loss: 0.4509 - acc: 0.8178 - val_loss: 0.4489 - val_acc: 0.8223\n",
      "\n",
      "Epoch 00007: val_acc did not improve from 0.82225\n",
      "Epoch 8/100\n",
      "620279/620279 [==============================] - 6s 10us/step - loss: 0.4424 - acc: 0.8178 - val_loss: 0.4340 - val_acc: 0.8223\n",
      "\n",
      "Epoch 00008: val_acc did not improve from 0.82225\n",
      "Epoch 9/100\n",
      "620279/620279 [==============================] - 6s 9us/step - loss: 0.4353 - acc: 0.8178 - val_loss: 0.4251 - val_acc: 0.8223\n",
      "\n",
      "Epoch 00009: val_acc did not improve from 0.82225\n",
      "Epoch 10/100\n",
      "620279/620279 [==============================] - 6s 9us/step - loss: 0.4318 - acc: 0.8178 - val_loss: 0.4219 - val_acc: 0.8223\n",
      "\n",
      "Epoch 00010: val_acc did not improve from 0.82225\n",
      "Epoch 11/100\n",
      "620279/620279 [==============================] - 6s 9us/step - loss: 0.4301 - acc: 0.8206 - val_loss: 0.4201 - val_acc: 0.8289\n",
      "\n",
      "Epoch 00011: val_acc improved from 0.82225 to 0.82893, saving model to weights_T2qq2016_unweighted_btagDeepCSV_excluded_V02.best.hdf5\n",
      "Epoch 12/100\n",
      "620279/620279 [==============================] - 6s 9us/step - loss: 0.4276 - acc: 0.8242 - val_loss: 0.4260 - val_acc: 0.8285\n",
      "\n",
      "Epoch 00012: val_acc did not improve from 0.82893\n",
      "Epoch 13/100\n",
      "620279/620279 [==============================] - 6s 9us/step - loss: 0.4268 - acc: 0.8242 - val_loss: 0.4215 - val_acc: 0.8292\n",
      "\n",
      "Epoch 00013: val_acc improved from 0.82893 to 0.82923, saving model to weights_T2qq2016_unweighted_btagDeepCSV_excluded_V02.best.hdf5\n",
      "Epoch 14/100\n",
      "620279/620279 [==============================] - 6s 9us/step - loss: 0.4259 - acc: 0.8242 - val_loss: 0.4195 - val_acc: 0.8283\n",
      "\n",
      "Epoch 00014: val_acc did not improve from 0.82923\n",
      "Epoch 15/100\n",
      "620279/620279 [==============================] - 6s 9us/step - loss: 0.4239 - acc: 0.8246 - val_loss: 0.4172 - val_acc: 0.8294\n",
      "\n",
      "Epoch 00015: val_acc improved from 0.82923 to 0.82942, saving model to weights_T2qq2016_unweighted_btagDeepCSV_excluded_V02.best.hdf5\n",
      "Epoch 16/100\n",
      "620279/620279 [==============================] - 7s 11us/step - loss: 0.4239 - acc: 0.8245 - val_loss: 0.4155 - val_acc: 0.8302\n",
      "\n",
      "Epoch 00016: val_acc improved from 0.82942 to 0.83018, saving model to weights_T2qq2016_unweighted_btagDeepCSV_excluded_V02.best.hdf5\n",
      "Epoch 17/100\n",
      "620279/620279 [==============================] - 8s 13us/step - loss: 0.4225 - acc: 0.8246 - val_loss: 0.4196 - val_acc: 0.8293\n",
      "\n",
      "Epoch 00017: val_acc did not improve from 0.83018\n",
      "Epoch 18/100\n",
      "620279/620279 [==============================] - 8s 13us/step - loss: 0.4223 - acc: 0.8244 - val_loss: 0.4208 - val_acc: 0.8276\n",
      "\n",
      "Epoch 00018: val_acc did not improve from 0.83018\n",
      "Epoch 19/100\n",
      "620279/620279 [==============================] - 7s 11us/step - loss: 0.4214 - acc: 0.8245 - val_loss: 0.4144 - val_acc: 0.8279\n",
      "\n",
      "Epoch 00019: val_acc did not improve from 0.83018\n",
      "Epoch 20/100\n",
      "620279/620279 [==============================] - 6s 10us/step - loss: 0.4195 - acc: 0.8250 - val_loss: 0.4214 - val_acc: 0.8254\n",
      "\n",
      "Epoch 00020: val_acc did not improve from 0.83018\n",
      "Epoch 21/100\n",
      "620279/620279 [==============================] - 6s 9us/step - loss: 0.4194 - acc: 0.8252 - val_loss: 0.4145 - val_acc: 0.8312\n",
      "\n",
      "Epoch 00021: val_acc improved from 0.83018 to 0.83119, saving model to weights_T2qq2016_unweighted_btagDeepCSV_excluded_V02.best.hdf5\n",
      "Epoch 22/100\n",
      "620279/620279 [==============================] - 6s 9us/step - loss: 0.4166 - acc: 0.8257 - val_loss: 0.4294 - val_acc: 0.8249\n",
      "\n",
      "Epoch 00022: val_acc did not improve from 0.83119\n",
      "Epoch 23/100\n",
      "620279/620279 [==============================] - 6s 9us/step - loss: 0.4159 - acc: 0.8258 - val_loss: 0.4057 - val_acc: 0.8314\n",
      "\n",
      "Epoch 00023: val_acc improved from 0.83119 to 0.83141, saving model to weights_T2qq2016_unweighted_btagDeepCSV_excluded_V02.best.hdf5\n",
      "Epoch 24/100\n",
      "620279/620279 [==============================] - 6s 10us/step - loss: 0.4115 - acc: 0.8266 - val_loss: 0.4010 - val_acc: 0.8299\n",
      "\n",
      "Epoch 00024: val_acc did not improve from 0.83141\n",
      "Epoch 25/100\n",
      "620279/620279 [==============================] - 6s 9us/step - loss: 0.4086 - acc: 0.8270 - val_loss: 0.4115 - val_acc: 0.8282\n",
      "\n",
      "Epoch 00025: val_acc did not improve from 0.83141\n",
      "Epoch 26/100\n",
      "620279/620279 [==============================] - 6s 9us/step - loss: 0.4054 - acc: 0.8274 - val_loss: 0.4145 - val_acc: 0.8317\n",
      "\n",
      "Epoch 00026: val_acc improved from 0.83141 to 0.83168, saving model to weights_T2qq2016_unweighted_btagDeepCSV_excluded_V02.best.hdf5\n",
      "Epoch 27/100\n",
      "620279/620279 [==============================] - 6s 9us/step - loss: 0.4051 - acc: 0.8274 - val_loss: 0.3967 - val_acc: 0.8319\n",
      "\n",
      "Epoch 00027: val_acc improved from 0.83168 to 0.83187, saving model to weights_T2qq2016_unweighted_btagDeepCSV_excluded_V02.best.hdf5\n",
      "Epoch 28/100\n",
      "620279/620279 [==============================] - 6s 9us/step - loss: 0.4016 - acc: 0.8279 - val_loss: 0.3995 - val_acc: 0.8324\n",
      "\n",
      "Epoch 00028: val_acc improved from 0.83187 to 0.83242, saving model to weights_T2qq2016_unweighted_btagDeepCSV_excluded_V02.best.hdf5\n",
      "Epoch 29/100\n",
      "620279/620279 [==============================] - 6s 9us/step - loss: 0.3996 - acc: 0.8279 - val_loss: 0.4216 - val_acc: 0.8302\n",
      "\n",
      "Epoch 00029: val_acc did not improve from 0.83242\n",
      "Epoch 30/100\n",
      "620279/620279 [==============================] - 6s 9us/step - loss: 0.4005 - acc: 0.8279 - val_loss: 0.3934 - val_acc: 0.8328\n",
      "\n",
      "Epoch 00030: val_acc improved from 0.83242 to 0.83282, saving model to weights_T2qq2016_unweighted_btagDeepCSV_excluded_V02.best.hdf5\n",
      "Epoch 31/100\n",
      "620279/620279 [==============================] - 6s 9us/step - loss: 0.3970 - acc: 0.8285 - val_loss: 0.3936 - val_acc: 0.8337\n",
      "\n",
      "Epoch 00031: val_acc improved from 0.83282 to 0.83368, saving model to weights_T2qq2016_unweighted_btagDeepCSV_excluded_V02.best.hdf5\n",
      "Epoch 32/100\n",
      "620279/620279 [==============================] - 6s 9us/step - loss: 0.3957 - acc: 0.8285 - val_loss: 0.4166 - val_acc: 0.8279\n",
      "\n",
      "Epoch 00032: val_acc did not improve from 0.83368\n",
      "Epoch 33/100\n",
      "620279/620279 [==============================] - 6s 9us/step - loss: 0.3992 - acc: 0.8279 - val_loss: 0.3916 - val_acc: 0.8307\n",
      "\n",
      "Epoch 00033: val_acc did not improve from 0.83368\n",
      "Epoch 34/100\n",
      "620279/620279 [==============================] - 6s 9us/step - loss: 0.3944 - acc: 0.8288 - val_loss: 0.3919 - val_acc: 0.8330\n",
      "\n",
      "Epoch 00034: val_acc did not improve from 0.83368\n",
      "Epoch 35/100\n",
      "620279/620279 [==============================] - 6s 9us/step - loss: 0.3947 - acc: 0.8288 - val_loss: 0.3942 - val_acc: 0.8328\n",
      "\n",
      "Epoch 00035: val_acc did not improve from 0.83368\n",
      "Epoch 36/100\n",
      "620279/620279 [==============================] - 6s 9us/step - loss: 0.3925 - acc: 0.8289 - val_loss: 0.4084 - val_acc: 0.8288\n",
      "\n",
      "Epoch 00036: val_acc did not improve from 0.83368\n",
      "Epoch 37/100\n",
      "620279/620279 [==============================] - 6s 9us/step - loss: 0.3943 - acc: 0.8289 - val_loss: 0.4142 - val_acc: 0.8309\n",
      "\n",
      "Epoch 00037: val_acc did not improve from 0.83368\n",
      "Epoch 38/100\n"
     ]
    },
    {
     "name": "stdout",
     "output_type": "stream",
     "text": [
      "620279/620279 [==============================] - 6s 9us/step - loss: 0.3935 - acc: 0.8291 - val_loss: 0.3872 - val_acc: 0.8337\n",
      "\n",
      "Epoch 00038: val_acc improved from 0.83368 to 0.83368, saving model to weights_T2qq2016_unweighted_btagDeepCSV_excluded_V02.best.hdf5\n",
      "Epoch 39/100\n",
      "620279/620279 [==============================] - 6s 9us/step - loss: 0.3907 - acc: 0.8294 - val_loss: 0.3886 - val_acc: 0.8337\n",
      "\n",
      "Epoch 00039: val_acc improved from 0.83368 to 0.83371, saving model to weights_T2qq2016_unweighted_btagDeepCSV_excluded_V02.best.hdf5\n",
      "Epoch 40/100\n",
      "620279/620279 [==============================] - 6s 9us/step - loss: 0.3902 - acc: 0.8296 - val_loss: 0.3974 - val_acc: 0.8283\n",
      "\n",
      "Epoch 00040: val_acc did not improve from 0.83371\n",
      "Epoch 41/100\n",
      "620279/620279 [==============================] - 6s 9us/step - loss: 0.3909 - acc: 0.8294 - val_loss: 0.3905 - val_acc: 0.8326\n",
      "\n",
      "Epoch 00041: val_acc did not improve from 0.83371\n",
      "Epoch 42/100\n",
      "620279/620279 [==============================] - 6s 9us/step - loss: 0.3901 - acc: 0.8298 - val_loss: 0.4023 - val_acc: 0.8332\n",
      "\n",
      "Epoch 00042: val_acc did not improve from 0.83371\n",
      "Epoch 43/100\n",
      "620279/620279 [==============================] - 6s 9us/step - loss: 0.3914 - acc: 0.8297 - val_loss: 0.3861 - val_acc: 0.8331\n",
      "\n",
      "Epoch 00043: val_acc did not improve from 0.83371\n",
      "Epoch 44/100\n",
      "620279/620279 [==============================] - 6s 9us/step - loss: 0.3887 - acc: 0.8301 - val_loss: 0.3872 - val_acc: 0.8325\n",
      "\n",
      "Epoch 00044: val_acc did not improve from 0.83371\n",
      "Epoch 45/100\n",
      "620279/620279 [==============================] - 6s 9us/step - loss: 0.3893 - acc: 0.8301 - val_loss: 0.4017 - val_acc: 0.8296\n",
      "\n",
      "Epoch 00045: val_acc did not improve from 0.83371\n",
      "Epoch 46/100\n",
      "620279/620279 [==============================] - 6s 9us/step - loss: 0.3905 - acc: 0.8298 - val_loss: 0.3870 - val_acc: 0.8328\n",
      "\n",
      "Epoch 00046: val_acc did not improve from 0.83371\n",
      "Epoch 47/100\n",
      "620279/620279 [==============================] - 6s 9us/step - loss: 0.3882 - acc: 0.8305 - val_loss: 0.4016 - val_acc: 0.8330\n",
      "\n",
      "Epoch 00047: val_acc did not improve from 0.83371\n",
      "Epoch 48/100\n",
      "620279/620279 [==============================] - 6s 9us/step - loss: 0.3900 - acc: 0.8301 - val_loss: 0.4052 - val_acc: 0.8263\n",
      "\n",
      "Epoch 00048: val_acc did not improve from 0.83371\n",
      "Epoch 49/100\n",
      "620279/620279 [==============================] - 6s 9us/step - loss: 0.3884 - acc: 0.8305 - val_loss: 0.3858 - val_acc: 0.8326\n",
      "\n",
      "Epoch 00049: val_acc did not improve from 0.83371\n",
      "Epoch 50/100\n",
      "620279/620279 [==============================] - 6s 9us/step - loss: 0.3867 - acc: 0.8306 - val_loss: 0.3864 - val_acc: 0.8323\n",
      "\n",
      "Epoch 00050: val_acc did not improve from 0.83371\n",
      "Epoch 51/100\n",
      "620279/620279 [==============================] - 6s 9us/step - loss: 0.3870 - acc: 0.8309 - val_loss: 0.3860 - val_acc: 0.8327\n",
      "\n",
      "Epoch 00051: val_acc did not improve from 0.83371\n",
      "Epoch 52/100\n",
      "620279/620279 [==============================] - 6s 9us/step - loss: 0.3863 - acc: 0.8310 - val_loss: 0.3869 - val_acc: 0.8332\n",
      "\n",
      "Epoch 00052: val_acc did not improve from 0.83371\n",
      "Epoch 53/100\n",
      "620279/620279 [==============================] - 6s 10us/step - loss: 0.3859 - acc: 0.8312 - val_loss: 0.3840 - val_acc: 0.8342\n",
      "\n",
      "Epoch 00053: val_acc improved from 0.83371 to 0.83420, saving model to weights_T2qq2016_unweighted_btagDeepCSV_excluded_V02.best.hdf5\n",
      "Epoch 54/100\n",
      "620279/620279 [==============================] - 6s 10us/step - loss: 0.3848 - acc: 0.8315 - val_loss: 0.3933 - val_acc: 0.8340\n",
      "\n",
      "Epoch 00054: val_acc did not improve from 0.83420\n",
      "Epoch 55/100\n",
      "620279/620279 [==============================] - 6s 9us/step - loss: 0.3869 - acc: 0.8312 - val_loss: 0.3836 - val_acc: 0.8336\n",
      "\n",
      "Epoch 00055: val_acc did not improve from 0.83420\n",
      "Epoch 56/100\n",
      "620279/620279 [==============================] - 6s 10us/step - loss: 0.3850 - acc: 0.8315 - val_loss: 0.3891 - val_acc: 0.8330\n",
      "\n",
      "Epoch 00056: val_acc did not improve from 0.83420\n",
      "Epoch 57/100\n",
      "620279/620279 [==============================] - 6s 10us/step - loss: 0.3852 - acc: 0.8319 - val_loss: 0.3844 - val_acc: 0.8324\n",
      "\n",
      "Epoch 00057: val_acc did not improve from 0.83420\n",
      "Epoch 58/100\n",
      "620279/620279 [==============================] - 6s 10us/step - loss: 0.3839 - acc: 0.8318 - val_loss: 0.3871 - val_acc: 0.8317\n",
      "\n",
      "Epoch 00058: val_acc did not improve from 0.83420\n",
      "Epoch 59/100\n",
      "620279/620279 [==============================] - 6s 10us/step - loss: 0.3853 - acc: 0.8316 - val_loss: 0.3935 - val_acc: 0.8332\n",
      "\n",
      "Epoch 00059: val_acc did not improve from 0.83420\n",
      "Epoch 60/100\n",
      "620279/620279 [==============================] - 6s 10us/step - loss: 0.3856 - acc: 0.8317 - val_loss: 0.3865 - val_acc: 0.8335\n",
      "\n",
      "Epoch 00060: val_acc did not improve from 0.83420\n",
      "Epoch 61/100\n",
      "620279/620279 [==============================] - 6s 10us/step - loss: 0.3842 - acc: 0.8318 - val_loss: 0.3913 - val_acc: 0.8333\n",
      "\n",
      "Epoch 00061: val_acc did not improve from 0.83420\n",
      "Epoch 62/100\n",
      "620279/620279 [==============================] - 6s 10us/step - loss: 0.3856 - acc: 0.8322 - val_loss: 0.3867 - val_acc: 0.8341\n",
      "\n",
      "Epoch 00062: val_acc did not improve from 0.83420\n",
      "Epoch 63/100\n",
      "620279/620279 [==============================] - 6s 10us/step - loss: 0.3833 - acc: 0.8325 - val_loss: 0.3868 - val_acc: 0.8325\n",
      "\n",
      "Epoch 00063: val_acc did not improve from 0.83420\n",
      "Epoch 64/100\n",
      "620279/620279 [==============================] - 6s 10us/step - loss: 0.3825 - acc: 0.8328 - val_loss: 0.4041 - val_acc: 0.8333\n",
      "\n",
      "Epoch 00064: val_acc did not improve from 0.83420\n",
      "Epoch 65/100\n",
      "620279/620279 [==============================] - 6s 10us/step - loss: 0.3831 - acc: 0.8325 - val_loss: 0.3930 - val_acc: 0.8345\n",
      "\n",
      "Epoch 00065: val_acc improved from 0.83420 to 0.83450, saving model to weights_T2qq2016_unweighted_btagDeepCSV_excluded_V02.best.hdf5\n",
      "Epoch 66/100\n",
      "620279/620279 [==============================] - 6s 10us/step - loss: 0.3830 - acc: 0.8325 - val_loss: 0.3842 - val_acc: 0.8321\n",
      "\n",
      "Epoch 00066: val_acc did not improve from 0.83450\n",
      "Epoch 67/100\n",
      "620279/620279 [==============================] - 6s 10us/step - loss: 0.3810 - acc: 0.8334 - val_loss: 0.3841 - val_acc: 0.8326\n",
      "\n",
      "Epoch 00067: val_acc did not improve from 0.83450\n",
      "Epoch 68/100\n",
      "620279/620279 [==============================] - 6s 9us/step - loss: 0.3815 - acc: 0.8332 - val_loss: 0.3950 - val_acc: 0.8291\n",
      "\n",
      "Epoch 00068: val_acc did not improve from 0.83450\n",
      "Epoch 69/100\n",
      "620279/620279 [==============================] - 6s 9us/step - loss: 0.3839 - acc: 0.8324 - val_loss: 0.3868 - val_acc: 0.8343\n",
      "\n",
      "Epoch 00069: val_acc did not improve from 0.83450\n",
      "Epoch 70/100\n",
      "620279/620279 [==============================] - 6s 9us/step - loss: 0.3803 - acc: 0.8334 - val_loss: 0.3896 - val_acc: 0.8314\n",
      "\n",
      "Epoch 00070: val_acc did not improve from 0.83450\n",
      "Epoch 71/100\n",
      "620279/620279 [==============================] - 6s 9us/step - loss: 0.3801 - acc: 0.8337 - val_loss: 0.3979 - val_acc: 0.8281\n",
      "\n",
      "Epoch 00071: val_acc did not improve from 0.83450\n",
      "Epoch 72/100\n",
      "620279/620279 [==============================] - 6s 9us/step - loss: 0.3809 - acc: 0.8337 - val_loss: 0.3979 - val_acc: 0.8330\n",
      "\n",
      "Epoch 00072: val_acc did not improve from 0.83450\n",
      "Epoch 73/100\n",
      "620279/620279 [==============================] - 6s 9us/step - loss: 0.3809 - acc: 0.8338 - val_loss: 0.3842 - val_acc: 0.8324\n",
      "\n",
      "Epoch 00073: val_acc did not improve from 0.83450\n",
      "Epoch 74/100\n",
      "620279/620279 [==============================] - 6s 9us/step - loss: 0.3785 - acc: 0.8343 - val_loss: 0.3830 - val_acc: 0.8332\n",
      "\n",
      "Epoch 00074: val_acc did not improve from 0.83450\n",
      "Epoch 75/100\n",
      "620279/620279 [==============================] - 6s 9us/step - loss: 0.3781 - acc: 0.8343 - val_loss: 0.3873 - val_acc: 0.8297\n",
      "\n",
      "Epoch 00075: val_acc did not improve from 0.83450\n",
      "Epoch 76/100\n",
      "620279/620279 [==============================] - 6s 9us/step - loss: 0.3789 - acc: 0.8346 - val_loss: 0.4027 - val_acc: 0.8223\n",
      "\n",
      "Epoch 00076: val_acc did not improve from 0.83450\n",
      "Epoch 77/100\n",
      "620279/620279 [==============================] - 6s 9us/step - loss: 0.3802 - acc: 0.8341 - val_loss: 0.3834 - val_acc: 0.8330\n",
      "\n",
      "Epoch 00077: val_acc did not improve from 0.83450\n",
      "Epoch 78/100\n",
      "620279/620279 [==============================] - 6s 9us/step - loss: 0.3762 - acc: 0.8352 - val_loss: 0.3832 - val_acc: 0.8342\n",
      "\n",
      "Epoch 00078: val_acc did not improve from 0.83450\n",
      "Epoch 79/100\n"
     ]
    },
    {
     "name": "stdout",
     "output_type": "stream",
     "text": [
      "620279/620279 [==============================] - 6s 9us/step - loss: 0.3778 - acc: 0.8350 - val_loss: 0.3894 - val_acc: 0.8351\n",
      "\n",
      "Epoch 00079: val_acc improved from 0.83450 to 0.83512, saving model to weights_T2qq2016_unweighted_btagDeepCSV_excluded_V02.best.hdf5\n",
      "Epoch 80/100\n",
      "620279/620279 [==============================] - 6s 9us/step - loss: 0.3779 - acc: 0.8350 - val_loss: 0.4009 - val_acc: 0.8248\n",
      "\n",
      "Epoch 00080: val_acc did not improve from 0.83512\n",
      "Epoch 81/100\n",
      "620279/620279 [==============================] - 6s 9us/step - loss: 0.3786 - acc: 0.8348 - val_loss: 0.3907 - val_acc: 0.8347\n",
      "\n",
      "Epoch 00081: val_acc did not improve from 0.83512\n",
      "Epoch 82/100\n",
      "620279/620279 [==============================] - 6s 9us/step - loss: 0.3761 - acc: 0.8355 - val_loss: 0.3864 - val_acc: 0.8315\n",
      "\n",
      "Epoch 00082: val_acc did not improve from 0.83512\n",
      "Epoch 83/100\n",
      "620279/620279 [==============================] - 6s 9us/step - loss: 0.3768 - acc: 0.8351 - val_loss: 0.3843 - val_acc: 0.8326\n",
      "\n",
      "Epoch 00083: val_acc did not improve from 0.83512\n",
      "Epoch 84/100\n",
      "620279/620279 [==============================] - 6s 9us/step - loss: 0.3755 - acc: 0.8354 - val_loss: 0.3854 - val_acc: 0.8345\n",
      "\n",
      "Epoch 00084: val_acc did not improve from 0.83512\n",
      "Epoch 85/100\n",
      "620279/620279 [==============================] - 6s 9us/step - loss: 0.3749 - acc: 0.8358 - val_loss: 0.3872 - val_acc: 0.8296\n",
      "\n",
      "Epoch 00085: val_acc did not improve from 0.83512\n",
      "Epoch 86/100\n",
      "620279/620279 [==============================] - 6s 9us/step - loss: 0.3734 - acc: 0.8364 - val_loss: 0.3876 - val_acc: 0.8328\n",
      "\n",
      "Epoch 00086: val_acc did not improve from 0.83512\n",
      "Epoch 87/100\n",
      "620279/620279 [==============================] - 6s 9us/step - loss: 0.3739 - acc: 0.8364 - val_loss: 0.3851 - val_acc: 0.8336\n",
      "\n",
      "Epoch 00087: val_acc did not improve from 0.83512\n",
      "Epoch 88/100\n",
      "620279/620279 [==============================] - 6s 9us/step - loss: 0.3728 - acc: 0.8368 - val_loss: 0.3958 - val_acc: 0.8231\n",
      "\n",
      "Epoch 00088: val_acc did not improve from 0.83512\n",
      "Epoch 89/100\n",
      "620279/620279 [==============================] - 6s 10us/step - loss: 0.3726 - acc: 0.8370 - val_loss: 0.3953 - val_acc: 0.8330\n",
      "\n",
      "Epoch 00089: val_acc did not improve from 0.83512\n",
      "Epoch 90/100\n",
      "620279/620279 [==============================] - 6s 10us/step - loss: 0.3727 - acc: 0.8368 - val_loss: 0.3853 - val_acc: 0.8334\n",
      "\n",
      "Epoch 00090: val_acc did not improve from 0.83512\n",
      "Epoch 91/100\n",
      "620279/620279 [==============================] - 6s 9us/step - loss: 0.3708 - acc: 0.8378 - val_loss: 0.3928 - val_acc: 0.8323\n",
      "\n",
      "Epoch 00091: val_acc did not improve from 0.83512\n",
      "Epoch 92/100\n",
      "620279/620279 [==============================] - 6s 9us/step - loss: 0.3726 - acc: 0.8370 - val_loss: 0.3849 - val_acc: 0.8323\n",
      "\n",
      "Epoch 00092: val_acc did not improve from 0.83512\n",
      "Epoch 93/100\n",
      "620279/620279 [==============================] - 6s 9us/step - loss: 0.3709 - acc: 0.8380 - val_loss: 0.4075 - val_acc: 0.8249\n",
      "\n",
      "Epoch 00093: val_acc did not improve from 0.83512\n",
      "Epoch 94/100\n",
      "620279/620279 [==============================] - 6s 10us/step - loss: 0.3727 - acc: 0.8374 - val_loss: 0.3940 - val_acc: 0.8337\n",
      "\n",
      "Epoch 00094: val_acc did not improve from 0.83512\n",
      "Epoch 95/100\n",
      "620279/620279 [==============================] - 6s 9us/step - loss: 0.3707 - acc: 0.8377 - val_loss: 0.3949 - val_acc: 0.8289\n",
      "\n",
      "Epoch 00095: val_acc did not improve from 0.83512\n",
      "Epoch 96/100\n",
      "620279/620279 [==============================] - 6s 9us/step - loss: 0.3709 - acc: 0.8383 - val_loss: 0.4170 - val_acc: 0.8144\n",
      "\n",
      "Epoch 00096: val_acc did not improve from 0.83512\n",
      "Epoch 97/100\n",
      "620279/620279 [==============================] - 6s 9us/step - loss: 0.3717 - acc: 0.8383 - val_loss: 0.3882 - val_acc: 0.8334\n",
      "\n",
      "Epoch 00097: val_acc did not improve from 0.83512\n",
      "Epoch 98/100\n",
      "620279/620279 [==============================] - 6s 9us/step - loss: 0.3680 - acc: 0.8392 - val_loss: 0.3966 - val_acc: 0.8325\n",
      "\n",
      "Epoch 00098: val_acc did not improve from 0.83512\n",
      "Epoch 99/100\n",
      "620279/620279 [==============================] - 6s 9us/step - loss: 0.3675 - acc: 0.8393 - val_loss: 0.3912 - val_acc: 0.8303\n",
      "\n",
      "Epoch 00099: val_acc did not improve from 0.83512\n",
      "Epoch 100/100\n",
      "620279/620279 [==============================] - 6s 9us/step - loss: 0.3679 - acc: 0.8392 - val_loss: 0.3896 - val_acc: 0.8297\n",
      "\n",
      "Epoch 00100: val_acc did not improve from 0.83512\n"
     ]
    }
   ],
   "source": [
    "model_history=model.fit(x=X_train[features_train[:]], y=y_train, epochs=100, batch_size=10000,\n",
    "         validation_data=(X_val[features_train[:]], y_val),callbacks=callbacks_list, verbose=1)\n",
    "#model.fit(x=X_train[features_train[:]], y=y_train, epochs=10, batch_size=10000)"
   ]
  },
  {
   "cell_type": "code",
   "execution_count": 21,
   "metadata": {},
   "outputs": [],
   "source": [
    "model1 = Sequential()\n",
    "model1.add(Dense(1024, input_shape=(X[features_train].shape[1],), kernel_initializer='normal', activation='relu'))\n",
    "model1.add(Dense(500, kernel_initializer='normal', activation='sigmoid'))\n",
    "model1.add(Dense(128, kernel_initializer='normal', activation='sigmoid'))\n",
    "model1.add(Dense(128, kernel_initializer='normal', activation='sigmoid'))\n",
    "model1.add(Dense(64, kernel_initializer='normal', activation='sigmoid'))\n",
    "model1.add(Dense(64, kernel_initializer='normal', activation='sigmoid'))\n",
    "model1.add(Dense(1, kernel_initializer='normal', activation='sigmoid'))\n",
    "model1.compile(optimizer=\"adam\", loss='binary_crossentropy',metrics=['accuracy'])\n",
    "model1.load_weights(\"weights_T2qq2016_unweighted_btagDeepCSV_excluded_V02.best.hdf5\")\n",
    "#model1.load_weights(\"weights_T2qq_unweighted_V02.best.hdf5\")"
   ]
  },
  {
   "cell_type": "code",
   "execution_count": 22,
   "metadata": {},
   "outputs": [],
   "source": [
    "model1.save(\"model_T2qq2016_unweighted_btagDeepCSV_excluded_V02.h5\")\n",
    "#model1.save(\"model_T2qq2016_unweighted_V02.h5\")"
   ]
  },
  {
   "cell_type": "code",
   "execution_count": 23,
   "metadata": {},
   "outputs": [],
   "source": [
    "def plot_history(histories, key_loss='loss',key_metric='acc'):\n",
    "    fig=plt.figure(figsize=(16,10))\n",
    "    ax1 = fig.add_subplot(211)\n",
    "    ax2 = fig.add_subplot(212)\n",
    "    for name, history in histories:\n",
    "        val_loss = ax1.plot(history.epoch, history.history['val_'+key_loss],\n",
    "                   '--', label=name.title()+' Val'+' - binary cross entropy')\n",
    "        ax1.plot(history.epoch, history.history[key_loss], color=val_loss[0].get_color(),\n",
    "             label=name.title()+' Train'+' - binary cross entropy')\n",
    "        val_metric=ax2.plot(history.epoch, history.history['val_'+key_metric],\n",
    "                   '--', label=name.title()+' Val'+' - accuracy')\n",
    "        ax2.plot(history.epoch, history.history[key_metric], color=val_metric[0].get_color(),\n",
    "             label=name.title()+' Train'+' - accuracy')\n",
    "    ax1.set_xlabel('Epochs',fontsize=18)\n",
    "    ax1.set_ylabel('Loss funtion',fontsize=18)\n",
    "    ax1.legend(loc='best',prop={'size': 12})\n",
    "    ax1.set_title(\"classification learning curve - loss funcion\",fontsize=20)\n",
    "    ax1.set_xlim([0,max(history.epoch)])\n",
    "    ax2.set_xlabel('Epochs',fontsize=18)\n",
    "    ax2.set_ylabel('Metric',fontsize=18)\n",
    "    ax2.legend(loc='best',prop={'size': 12})\n",
    "    ax2.set_title(\"classification learning curve - metric\",fontsize=20)\n",
    "    ax2.set_xlim([0,max(history.epoch)])\n",
    "    return fig"
   ]
  },
  {
   "cell_type": "code",
   "execution_count": 24,
   "metadata": {},
   "outputs": [
    {
     "data": {
      "image/png": "[encoded data removed]",
      "text/plain": [
       "<Figure size 1152x720 with 2 Axes>"
      ]
     },
     "metadata": {
      "needs_background": "light"
     },
     "output_type": "display_data"
    }
   ],
   "source": [
    "fig=plot_history([('signal - background classification',model_history)])\n",
    "#fig.savefig('T2qq_unweighted_learningcurve_V02.pdf')\n",
    "#fig.savefig('T2qq_unweighted_learningcurve_V02.png')\n",
    "fig.savefig('T2qq_unweighted_learningcurve_btagDeepCSVexcluded_V02.pdf')\n",
    "fig.savefig('T2qq_unweighted_learningcurve_btagDeepCSVexcluded_V02.png')"
   ]
  },
  {
   "cell_type": "code",
   "execution_count": 25,
   "metadata": {},
   "outputs": [],
   "source": [
    "results = model1.predict(X_val[features_train[:]], batch_size=10000)"
   ]
  },
  {
   "cell_type": "code",
   "execution_count": 26,
   "metadata": {},
   "outputs": [
    {
     "name": "stdout",
     "output_type": "stream",
     "text": [
      "area under ROC curve:  0.8550761810852977\n"
     ]
    }
   ],
   "source": [
    "from sklearn.metrics import roc_auc_score\n",
    "auc = roc_auc_score(y_val, results,sample_weight=X_val[b'evt_scale1fb'][:])\n",
    "#auc = roc_auc_score(y_test, results)\n",
    "print(\"area under ROC curve: \", auc)"
   ]
  },
  {
   "cell_type": "code",
   "execution_count": 27,
   "metadata": {},
   "outputs": [],
   "source": [
    "databkg_2016_test=databkg_2016[databkg_2016[b'MLtag']!=1]\n",
    "datasig_T2qq_2016_test=datasig_T2qq_2016[datasig_T2qq_2016[b'MLtag']!=1]\n",
    "pd.options.mode.chained_assignment = None\n",
    "databkg_2016_test[b'sigtag']=0\n",
    "datasig_T2qq_2016_test[b'sigtag']=1"
   ]
  },
  {
   "cell_type": "code",
   "execution_count": 28,
   "metadata": {},
   "outputs": [],
   "source": [
    "sigtest_score= model1.predict(datasig_T2qq_2016_test[features_train[:]], batch_size=10000)\n",
    "bkgtest_score= model1.predict(databkg_2016_test[features_train[:]],batch_size=10000)"
   ]
  },
  {
   "cell_type": "code",
   "execution_count": 29,
   "metadata": {},
   "outputs": [],
   "source": [
    "databkg_2016_test[b'MLscore']=bkgtest_score\n",
    "datasig_T2qq_2016_test[b'MLscore']=sigtest_score"
   ]
  },
  {
   "cell_type": "code",
   "execution_count": 30,
   "metadata": {},
   "outputs": [
    {
     "data": {
      "image/png": "[encoded data removed]",
      "text/plain": [
       "<Figure size 1440x720 with 1 Axes>"
      ]
     },
     "metadata": {
      "needs_background": "light"
     },
     "output_type": "display_data"
    }
   ],
   "source": [
    "fig3 = plt.figure(figsize=(20,10))\n",
    "ax3 = fig3.add_subplot(111)\n",
    "bkgscore=[databkg_2016_test[databkg_2016_test[b'bkgtype']==0][b'MLscore'], \\\n",
    "          databkg_2016_test[(databkg_2016_test[b'bkgtype']==1)|(databkg_2016_test[b'bkgtype']==2)][b'MLscore'], \\\n",
    "         databkg_2016_test[databkg_2016_test[b'bkgtype']==3][b'MLscore'],\n",
    "         databkg_2016_test[databkg_2016_test[b'bkgtype']==4][b'MLscore']]\n",
    "bkgweight=[databkg_2016_test[databkg_2016_test[b'bkgtype']==0][b'evt_scale1fb'], \\\n",
    "          databkg_2016_test[(databkg_2016_test[b'bkgtype']==1)|(databkg_2016_test[b'bkgtype']==2)][b'evt_scale1fb'], \\\n",
    "         databkg_2016_test[databkg_2016_test[b'bkgtype']==3][b'evt_scale1fb'],\n",
    "         databkg_2016_test[databkg_2016_test[b'bkgtype']==4][b'evt_scale1fb']]\n",
    "bkgname=['qcd','top','wjets','zinv']\n",
    "ax3.hist(bkgscore,bins=np.arange(0,1.025,0.025),stacked=True,alpha=0.5,label=bkgname,density=True,weights=bkgweight)\n",
    "ax3.hist(datasig_T2qq_2016_test[b'MLscore'],bins=np.arange(0,1.025,0.025),alpha=1,label='score of test: signal',density=True,histtype='step',linewidth=2)\n",
    "ax3.legend(loc='upper left',prop={'size': 12})\n",
    "ax3.set_title(\"T2qq 2016 score distribution of signal and background for testing set\",fontsize=20)\n",
    "ax3.set_xlabel('Score',fontsize=18)\n",
    "ax3.set_ylabel('fraction',fontsize=18)\n",
    "#fig3.savefig('T2qq_2016_scoredistribution_V02.pdf')\n",
    "#fig3.savefig('T2qq_2016_scoredistribution_V02.png')\n",
    "fig3.savefig('T2qq_2016_scoredistribution_btagDeepCSV_excluded_V02.pdf')\n",
    "fig3.savefig('T2qq_2016_scoredistribution_btagDeepCSV_excluded_V02.png')"
   ]
  },
  {
   "cell_type": "code",
   "execution_count": null,
   "metadata": {},
   "outputs": [],
   "source": [
    "fig1 = plt.figure(figsize=(20,10))\n",
    "ax0 = fig1.add_subplot(111)\n",
    "bins=np.histogram(datasig_T2qq_2016_test[b'mt2'],bins=30)[1]\n",
    "logbins = np.logspace(np.log10(bins[0]),np.log10(bins[-1]),len(bins))\n",
    "labels=['mt2 of signal T1qqqq before cut','mt2 of signal T1qqqq after cut']\n",
    "ax0.hist(datasig_T2qq_2016_test[b'mt2'],\n",
    "             bins=logbins,density=True,alpha=0.5,color='orange',\n",
    "             label=labels[0])\n",
    "ax0.hist(datasig_T2qq_2016_test[datasig_T2qq_2016_test[b'MLscore']>0.5][b'mt2'],\n",
    "             bins=logbins,density=True,color='b',histtype='step',\n",
    "             label=labels[1])\n",
    "ax0.legend(loc='best',prop={'size': 12})\n",
    "ax0.set_xscale('log')\n",
    "ax0.set_xlabel('mt2',fontsize=18)\n",
    "ax0.set_ylabel('fraction',fontsize=18)\n",
    "ax0.set_title('comparison of T1qqqq signal before and after cut',size=20)\n",
    "fig1.show()"
   ]
  },
  {
   "cell_type": "code",
   "execution_count": null,
   "metadata": {},
   "outputs": [],
   "source": [
    "fig2 = plt.figure(figsize=(20,10))\n",
    "ax2 = fig2.add_subplot(111)\n",
    "bins=np.histogram(databkg_2016_test[b'mt2'],bins=30)[1]\n",
    "logbins = np.logspace(np.log10(bins[0]),np.log10(bins[-1]),len(bins))\n",
    "labels=['mt2 of accumulated background before cut','mt2 of accululated background after cut']\n",
    "ax2.hist(databkg_2016_test[b'mt2'],\n",
    "             bins=logbins,density=True,alpha=0.5,color='orange',\n",
    "         weights=databkg_2016_test[b'evt_scale1fb'],\n",
    "             label=labels[0])\n",
    "ax2.hist(databkg_2016_test[databkg_2016_test[b'MLscore']>0.5][b'mt2'],\n",
    "             bins=logbins,density=True,color='b',histtype='step',\n",
    "         weights=databkg_2016_test[databkg_2016_test[b'MLscore']>0.5][b'evt_scale1fb'],\n",
    "             label=labels[1])\n",
    "ax2.legend(loc='best',prop={'size': 12})\n",
    "ax2.set_xscale('log')\n",
    "ax2.set_xlabel('mt2',fontsize=18)\n",
    "ax2.set_ylabel('fraction',fontsize=18)\n",
    "ax2.set_title('comparison of total background before and after cut',size=20)\n",
    "fig2.show()"
   ]
  },
  {
   "cell_type": "code",
   "execution_count": null,
   "metadata": {},
   "outputs": [],
   "source": [
    "fig3 = plt.figure(figsize=(20,10))\n",
    "ax3 = fig3.add_subplot(111)\n",
    "bins=np.histogram(databkg_2016_test[databkg_2016_test[b'bkgtype']==4][b'mt2'],bins=30)[1]\n",
    "logbins = np.logspace(np.log10(bins[0]),np.log10(bins[-1]),len(bins))\n",
    "labels=['mt2 of zinv background before cut','mt2 of zinv background after cut']\n",
    "ax3.hist(databkg_2016_test[databkg_2016_test[b'bkgtype']==4][b'mt2'],\n",
    "             bins=logbins,density=True,alpha=0.5,color='orange',\n",
    "         weights=databkg_2016_test[databkg_2016_test[b'bkgtype']==4][b'evt_scale1fb'],\n",
    "             label=labels[0])\n",
    "ax3.hist(databkg_2016_test[(databkg_2016_test[b'MLscore']>0.5)&(databkg_2016_test[b'bkgtype']==4)][b'mt2'],\n",
    "             bins=logbins,density=True,color='b',histtype='step',\n",
    "         weights=databkg_2016_test[(databkg_2016_test[b'MLscore']>0.5)&(databkg_2016_test[b'bkgtype']==4)][b'evt_scale1fb'],\n",
    "             label=labels[1])\n",
    "ax3.legend(loc='best',prop={'size': 12})\n",
    "ax3.set_xscale('log')\n",
    "ax3.set_xlabel('mt2',fontsize=18)\n",
    "ax3.set_ylabel('fraction',fontsize=18)\n",
    "ax3.set_title('comparison of zinv background before and after cut',size=20)\n",
    "fig3.show()"
   ]
  },
  {
   "cell_type": "code",
   "execution_count": null,
   "metadata": {},
   "outputs": [],
   "source": [
    "fig4 = plt.figure(figsize=(20,10))\n",
    "ax4 = fig4.add_subplot(111)\n",
    "bins=np.histogram(databkg_2016_test[databkg_2016_test[b'bkgtype']==3][b'mt2'],bins=30)[1]\n",
    "logbins = np.logspace(np.log10(bins[0]),np.log10(bins[-1]),len(bins))\n",
    "labels=['mt2 of wjets background before cut','mt2 of wjets background after cut']\n",
    "ax4.hist(databkg_2016_test[databkg_2016_test[b'bkgtype']==3][b'mt2'],\n",
    "             bins=logbins,density=True,alpha=0.5,color='orange',\n",
    "         weights=databkg_2016_test[databkg_2016_test[b'bkgtype']==3][b'evt_scale1fb'],\n",
    "             label=labels[0])\n",
    "ax4.hist(databkg_2016_test[(databkg_2016_test[b'MLscore']>0.5)&(databkg_2016_test[b'bkgtype']==3)][b'mt2'],\n",
    "             bins=logbins,density=True,color='b',histtype='step',\n",
    "         weights=databkg_2016_test[(databkg_2016_test[b'MLscore']>0.5)&(databkg_2016_test[b'bkgtype']==3)][b'evt_scale1fb'],\n",
    "             label=labels[1])\n",
    "ax4.legend(loc='best',prop={'size': 12})\n",
    "ax4.set_xscale('log')\n",
    "ax4.set_xlabel('mt2',fontsize=18)\n",
    "ax4.set_ylabel('fraction',fontsize=18)\n",
    "ax4.set_title('comparison of wjets background before and after cut',size=20)\n",
    "fig4.show()"
   ]
  },
  {
   "cell_type": "code",
   "execution_count": null,
   "metadata": {},
   "outputs": [],
   "source": [
    "fig5 = plt.figure(figsize=(20,10))\n",
    "ax5 = fig5.add_subplot(111)\n",
    "bins=np.histogram(databkg_2016_test[databkg_2016_test[b'bkgtype']==0][b'mt2'],bins=30)[1]\n",
    "logbins = np.logspace(np.log10(bins[0]),np.log10(bins[-1]),len(bins))\n",
    "labels=['mt2 of singletop background before cut','mt2 of singletop background after cut']\n",
    "ax5.hist(databkg_2016_test[databkg_2016_test[b'bkgtype']==0][b'mt2'],\n",
    "             bins=logbins,density=True,alpha=0.5,color='orange',\n",
    "         weights=databkg_2016_test[databkg_2016_test[b'bkgtype']==0][b'evt_scale1fb'],\n",
    "             label=labels[0])\n",
    "ax5.hist(databkg_2016_test[(databkg_2016_test[b'MLscore']>0.5)&(databkg_2016_test[b'bkgtype']==0)][b'mt2'],\n",
    "             bins=logbins,density=True,color='b',histtype='step',\n",
    "         weights=databkg_2016_test[(databkg_2016_test[b'MLscore']>0.5)&(databkg_2016_test[b'bkgtype']==0)][b'evt_scale1fb'],\n",
    "             label=labels[1])\n",
    "ax5.legend(loc='best',prop={'size': 12})\n",
    "ax5.set_xscale('log')\n",
    "ax5.set_xlabel('mt2',fontsize=18)\n",
    "ax5.set_ylabel('fraction',fontsize=18)\n",
    "ax5.set_title('comparison of qcd background before and after cut',size=20)\n",
    "fig5.show()"
   ]
  },
  {
   "cell_type": "code",
   "execution_count": null,
   "metadata": {},
   "outputs": [],
   "source": [
    "fig7 = plt.figure(figsize=(20,10))\n",
    "ax7 = fig7.add_subplot(111)\n",
    "bins=np.histogram(databkg_2016_test[(databkg_2016_test[b'bkgtype']==1)|(databkg_2016_test[b'bkgtype']==2)][b'mt2'],bins=30)[1]\n",
    "logbins = np.logspace(np.log10(bins[0]),np.log10(bins[-1]),len(bins))\n",
    "labels=['mt2 of singletop background before cut','mt2 of singletop background after cut']\n",
    "ax7.hist(databkg_2016_test[(databkg_2016_test[b'bkgtype']==1)|(databkg_2016_test[b'bkgtype']==2)][b'mt2'],\n",
    "             bins=logbins,density=True,alpha=0.5,color='orange',\n",
    "         weights=databkg_2016_test[(databkg_2016_test[b'bkgtype']==1)|(databkg_2016_test[b'bkgtype']==2)][b'evt_scale1fb'],\n",
    "             label=labels[0])\n",
    "ax7.hist(databkg_2016_test[(databkg_2016_test[b'MLscore']>0.5)&((databkg_2016_test[b'bkgtype']==1)|(databkg_2016_test[b'bkgtype']==2))][b'mt2'],\n",
    "             bins=logbins,density=True,color='b',histtype='step',\n",
    "         weights=databkg_2016_test[(databkg_2016_test[b'MLscore']>0.5)&((databkg_2016_test[b'bkgtype']==1)|(databkg_2016_test[b'bkgtype']==2))][b'evt_scale1fb'],\n",
    "             label=labels[1])\n",
    "ax7.legend(loc='best',prop={'size': 12})\n",
    "ax7.set_xscale('log')\n",
    "ax7.set_xlabel('mt2',fontsize=18)\n",
    "ax7.set_ylabel('fraction',fontsize=18)\n",
    "ax7.set_title('comparison of top background before and after cut',size=20)\n",
    "fig7.show()"
   ]
  },
  {
   "cell_type": "code",
   "execution_count": null,
   "metadata": {},
   "outputs": [],
   "source": []
  }
 ],
 "metadata": {
  "kernelspec": {
   "display_name": "Python 3",
   "language": "python",
   "name": "python3"
  },
  "language_info": {
   "codemirror_mode": {
    "name": "ipython",
    "version": 3
   },
   "file_extension": ".py",
   "mimetype": "text/x-python",
   "name": "python",
   "nbconvert_exporter": "python",
   "pygments_lexer": "ipython3",
   "version": "3.6.7"
  }
 },
 "nbformat": 4,
 "nbformat_minor": 2
}
